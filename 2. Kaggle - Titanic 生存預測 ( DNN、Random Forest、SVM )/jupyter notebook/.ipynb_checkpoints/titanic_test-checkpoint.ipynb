{
 "cells": [
  {
   "cell_type": "code",
   "execution_count": 1,
   "id": "biblical-tomorrow",
   "metadata": {},
   "outputs": [],
   "source": [
    "# 先導入資料處理會用到的模組\n",
    "import numpy as np\n",
    "import numpy.random as random\n",
    "import scipy as sp\n",
    "from pandas import Series, DataFrame\n",
    "import pandas as pd\n",
    "\n",
    "# 可視化模組\n",
    "import matplotlib.pyplot as plt\n",
    "import matplotlib as mpl\n",
    "import seaborn as sns\n",
    "%matplotlib inline\n",
    "\n",
    "\"\"\" \n",
    "Seaborn：讓 Matplotlib 的圖表更美觀的函式庫，\n",
    "只需匯入便能讓圖表變得更美觀，還能指定數個增加的樣式。\n",
    "\"\"\"\n",
    "\n",
    "# 機器學習模組\n",
    "import sklearn"
   ]
  },
  {
   "cell_type": "code",
   "execution_count": 2,
   "id": "computational-warning",
   "metadata": {},
   "outputs": [],
   "source": [
    "# model train set modify function\n",
    "\n",
    "def title_map(x):\n",
    "#     title = 3 if (x != \"Mr\" and x != \"Miss\" and x != \"Mrs\") else x\n",
    "    title = ''\n",
    "    if x == \"Mr\":\n",
    "        title = 0\n",
    "    elif x == \"Miss\" :\n",
    "        title = 1\n",
    "    elif x == \"Mrs\":\n",
    "        title = 2\n",
    "    else:\n",
    "        title = 3\n",
    "    return title\n",
    "\n",
    "sex_mapping = { \"male\": 0 , \"female\": 1 }\n",
    "\n",
    "# 登船地點的 Mapping Function\n",
    "embarked_mapping = { \"S\": 0 , \"C\": 1 , \"Q\": 2 }\n",
    "\n",
    "# 船艙 Mapping\n",
    "cabin_mapping = { \"A\": 0 , \"B\": 0.4 , \"C\": 0.8 , \"D\": 1.2 , \"E\": 1.6 ,\n",
    "                  \"F\": 2 , \"G\": 2.4 , \"T\": 2.8 }\n",
    "\n",
    "# 家族人口的 Mapping Function\n",
    "family_mapping = { 1: 0 , 2: 0.4 , 3: 0.8 , 4: 1.2 , 5: 1.6 ,\n",
    "                  6: 2 , 7: 2.4 , 8: 2.8 , 9: 3.2 , 10: 3.6 , 11: 4 }\n",
    "# 刪除 SibSp, Parch, Ticket\n",
    "features_drop = ['SibSp', 'Parch', 'Ticket', 'PassengerId']\n"
   ]
  },
  {
   "cell_type": "code",
   "execution_count": 3,
   "id": "emerging-domain",
   "metadata": {},
   "outputs": [
    {
     "data": {
      "text/html": [
       "<div>\n",
       "<style scoped>\n",
       "    .dataframe tbody tr th:only-of-type {\n",
       "        vertical-align: middle;\n",
       "    }\n",
       "\n",
       "    .dataframe tbody tr th {\n",
       "        vertical-align: top;\n",
       "    }\n",
       "\n",
       "    .dataframe thead th {\n",
       "        text-align: right;\n",
       "    }\n",
       "</style>\n",
       "<table border=\"1\" class=\"dataframe\">\n",
       "  <thead>\n",
       "    <tr style=\"text-align: right;\">\n",
       "      <th></th>\n",
       "      <th>PassengerId</th>\n",
       "      <th>Survived</th>\n",
       "    </tr>\n",
       "  </thead>\n",
       "  <tbody>\n",
       "    <tr>\n",
       "      <th>0</th>\n",
       "      <td>1</td>\n",
       "      <td>0</td>\n",
       "    </tr>\n",
       "    <tr>\n",
       "      <th>1</th>\n",
       "      <td>2</td>\n",
       "      <td>1</td>\n",
       "    </tr>\n",
       "  </tbody>\n",
       "</table>\n",
       "</div>"
      ],
      "text/plain": [
       "   PassengerId  Survived\n",
       "0            1         0\n",
       "1            2         1"
      ]
     },
     "execution_count": 3,
     "metadata": {},
     "output_type": "execute_result"
    }
   ],
   "source": [
    "from IPython.core.interactiveshell import InteractiveShell\n",
    "InteractiveShell.ast_node_interactivity = \"all\"\n",
    "\n",
    "# 載入測試資料\n",
    "\n",
    "testset = pd.read_csv('titanic/test-rosejack.csv')\n",
    "\n",
    "test_target_answer = [ 0, 1 ]\n",
    "test_target = DataFrame(test_target_answer, columns = ['Survived'])\n",
    "\n",
    "submit_set = DataFrame(testset['PassengerId'].to_list() , columns = ['PassengerId'])\n",
    "submit_set['Survived'] = test_target_answer\n",
    "\n",
    "testset\n",
    "submit_set"
   ]
  },
  {
   "cell_type": "code",
   "execution_count": 4,
   "id": "focused-wheel",
   "metadata": {},
   "outputs": [
    {
     "name": "stdout",
     "output_type": "stream",
     "text": [
      "<class 'pandas.core.frame.DataFrame'>\n",
      "RangeIndex: 2 entries, 0 to 1\n",
      "Data columns (total 8 columns):\n",
      " #   Column      Non-Null Count  Dtype  \n",
      "---  ------      --------------  -----  \n",
      " 0   Pclass      2 non-null      int64  \n",
      " 1   Sex         2 non-null      int64  \n",
      " 2   Age         2 non-null      float64\n",
      " 3   Fare        2 non-null      float64\n",
      " 4   Cabin       2 non-null      float64\n",
      " 5   Embarked    2 non-null      int64  \n",
      " 6   Title       2 non-null      int64  \n",
      " 7   FamilySize  2 non-null      float64\n",
      "dtypes: float64(4), int64(4)\n",
      "memory usage: 256.0 bytes\n"
     ]
    },
    {
     "data": {
      "text/html": [
       "<div>\n",
       "<style scoped>\n",
       "    .dataframe tbody tr th:only-of-type {\n",
       "        vertical-align: middle;\n",
       "    }\n",
       "\n",
       "    .dataframe tbody tr th {\n",
       "        vertical-align: top;\n",
       "    }\n",
       "\n",
       "    .dataframe thead th {\n",
       "        text-align: right;\n",
       "    }\n",
       "</style>\n",
       "<table border=\"1\" class=\"dataframe\">\n",
       "  <thead>\n",
       "    <tr style=\"text-align: right;\">\n",
       "      <th></th>\n",
       "      <th>Pclass</th>\n",
       "      <th>Sex</th>\n",
       "      <th>Age</th>\n",
       "      <th>Fare</th>\n",
       "      <th>Cabin</th>\n",
       "      <th>Embarked</th>\n",
       "      <th>Title</th>\n",
       "      <th>FamilySize</th>\n",
       "    </tr>\n",
       "  </thead>\n",
       "  <tbody>\n",
       "    <tr>\n",
       "      <th>0</th>\n",
       "      <td>3</td>\n",
       "      <td>0</td>\n",
       "      <td>1.0</td>\n",
       "      <td>0.0</td>\n",
       "      <td>2.0</td>\n",
       "      <td>0</td>\n",
       "      <td>0</td>\n",
       "      <td>0.0</td>\n",
       "    </tr>\n",
       "    <tr>\n",
       "      <th>1</th>\n",
       "      <td>1</td>\n",
       "      <td>1</td>\n",
       "      <td>1.0</td>\n",
       "      <td>2.0</td>\n",
       "      <td>0.8</td>\n",
       "      <td>0</td>\n",
       "      <td>1</td>\n",
       "      <td>0.4</td>\n",
       "    </tr>\n",
       "  </tbody>\n",
       "</table>\n",
       "</div>"
      ],
      "text/plain": [
       "   Pclass  Sex  Age  Fare  Cabin  Embarked  Title  FamilySize\n",
       "0       3    0  1.0   0.0    2.0         0      0         0.0\n",
       "1       1    1  1.0   2.0    0.8         0      1         0.4"
      ]
     },
     "execution_count": 4,
     "metadata": {},
     "output_type": "execute_result"
    }
   ],
   "source": [
    "# 整理測試資料\n",
    "\n",
    "testset['Title'] = testset['Name'].str.extract(' ([A-Za-z]+)\\.', expand = False)\n",
    "testset['Title'] = testset['Title'].map(title_map)\n",
    "testset.drop('Name', axis = 1 , inplace = True)\n",
    "\n",
    "testset['Sex'] = testset['Sex'].map(sex_mapping)\n",
    "\n",
    "testset[\"Age\"].fillna(testset.groupby(\"Title\")[\"Age\"].transform(\"median\"), inplace = True)\n",
    "testset.loc[ testset['Age'] <= 16 , 'Age' ] = 0\n",
    "testset.loc[ (testset['Age'] > 16) & (testset['Age'] <= 26) , 'Age' ] = 1\n",
    "testset.loc[ (testset['Age'] > 26) & (testset['Age'] <= 36) , 'Age' ] = 2\n",
    "testset.loc[ (testset['Age'] > 36) & (testset['Age'] <= 62) , 'Age' ] = 3\n",
    "testset.loc[ testset['Age'] > 62 , 'Age' ] = 4\n",
    "\n",
    "testset[\"Embarked\"] = testset[\"Embarked\"].fillna('S')\n",
    "testset[\"Embarked\"] = testset[\"Embarked\"].map(embarked_mapping)\n",
    "\n",
    "testset[\"Fare\"].fillna(testset.groupby(\"Age\")[\"Fare\"].transform(\"median\"), inplace = True)\n",
    "\n",
    "testset.loc[ testset['Fare'] <= 17 , 'Fare' ] = 0\n",
    "testset.loc[ (testset['Fare'] > 17) & (testset['Fare'] <= 30) , 'Fare' ] = 1\n",
    "testset.loc[ (testset['Fare'] > 30) & (testset['Fare'] <= 100) , 'Fare' ] = 2\n",
    "testset.loc[ testset['Fare'] > 100 , 'Fare' ] = 3\n",
    "\n",
    "testset['Cabin'] = testset['Cabin'].str[:1]\n",
    "testset[\"Cabin\"] = testset[\"Cabin\"].map(cabin_mapping)\n",
    "testset[\"Cabin\"].fillna(testset.groupby(\"Fare\")[\"Cabin\"].transform(\"median\"), inplace = True)\n",
    "\n",
    "testset[\"FamilySize\"] = testset[\"SibSp\"] + testset[\"Parch\"] + 1    # 包括自己本人\n",
    "testset[\"FamilySize\"] = testset[\"FamilySize\"].map(family_mapping)\n",
    "\n",
    "testset = testset.drop(features_drop, axis = 1)\n",
    "\n",
    "testset.info()\n",
    "testset.tail()"
   ]
  },
  {
   "cell_type": "code",
   "execution_count": 5,
   "id": "equipped-closure",
   "metadata": {},
   "outputs": [],
   "source": [
    "# 下次要使用模型時，再 load_model\n",
    "from keras.models import load_model\n",
    "DNN_model = load_model('titanic_DNN.h5')"
   ]
  },
  {
   "cell_type": "code",
   "execution_count": 6,
   "id": "sunset-router",
   "metadata": {},
   "outputs": [
    {
     "name": "stdout",
     "output_type": "stream",
     "text": [
      "   PassengerId  Survived\n",
      "0            1         0\n",
      "1            2         1\n"
     ]
    }
   ],
   "source": [
    "DNN_probability = DNN_model.predict(testset)\n",
    "# print(probability)\n",
    "\n",
    "DNN_predict_set = pd.DataFrame()\n",
    "DNN_predict_set[\"PassengerId\"] = submit_set[\"PassengerId\"]\n",
    "DNN_predict_set[\"Survived\"] = DNN_probability\n",
    "# print(predict_set)\n",
    "\n",
    "def predict_map(x):\n",
    "#     title = 3 if (x != \"Mr\" and x != \"Miss\" and x != \"Mrs\") else x\n",
    "    predict = ''\n",
    "    if x < 0.5:\n",
    "        predict = 0\n",
    "    else:\n",
    "        predict = 1\n",
    "    return predict\n",
    "\n",
    "DNN_predict_set[\"Survived\"] = DNN_predict_set[\"Survived\"].map(predict_map) #注意這裡傳入的是函數名，不帶括號。\n",
    "\n",
    "print(DNN_predict_set)\n",
    "\n",
    "DNN_predict_set.to_csv(\"Submission_DNN_test.csv\", index = 0)"
   ]
  },
  {
   "cell_type": "code",
   "execution_count": 7,
   "id": "broke-estate",
   "metadata": {},
   "outputs": [
    {
     "name": "stdout",
     "output_type": "stream",
     "text": [
      "1/1 [==============================] - 0s 192ms/step - loss: 0.0838 - acc: 1.0000\n",
      "\n",
      "DNN Test Acc: 1.0\n"
     ]
    }
   ],
   "source": [
    "DNN_score = DNN_model.evaluate( x = testset , y = test_target)\n",
    "\n",
    "print ('\\nDNN Test Acc:', DNN_score[1])"
   ]
  }
 ],
 "metadata": {
  "kernelspec": {
   "display_name": "Python 3",
   "language": "python",
   "name": "python3"
  },
  "language_info": {
   "codemirror_mode": {
    "name": "ipython",
    "version": 3
   },
   "file_extension": ".py",
   "mimetype": "text/x-python",
   "name": "python",
   "nbconvert_exporter": "python",
   "pygments_lexer": "ipython3",
   "version": "3.8.8"
  }
 },
 "nbformat": 4,
 "nbformat_minor": 5
}
